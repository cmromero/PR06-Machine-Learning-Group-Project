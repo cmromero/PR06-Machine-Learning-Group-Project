{
 "cells": [
  {
   "cell_type": "code",
   "execution_count": 1,
   "id": "ca7b5015",
   "metadata": {},
   "outputs": [],
   "source": [
    "import pandas as pd\n",
    "import numpy as np"
   ]
  },
  {
   "cell_type": "code",
   "execution_count": 2,
   "id": "d1f94960",
   "metadata": {},
   "outputs": [],
   "source": [
    "import kaggle\n",
    "kaggle.api.authenticate()"
   ]
  },
  {
   "cell_type": "code",
   "execution_count": 3,
   "id": "c0e236da",
   "metadata": {},
   "outputs": [],
   "source": [
    "#kaggle datasets download -d stefanoleone992/fifa-22-complete-player-dataset"
   ]
  },
  {
   "cell_type": "code",
   "execution_count": 4,
   "id": "b50827fd",
   "metadata": {},
   "outputs": [],
   "source": [
    "#kaggle.api.dataset_download_file('stefanoleone992/fifa-22-complete-player-dataset',file_name='players_22.csv',path='data/')"
   ]
  },
  {
   "cell_type": "code",
   "execution_count": 5,
   "id": "32c5d11f",
   "metadata": {},
   "outputs": [
    {
     "name": "stderr",
     "output_type": "stream",
     "text": [
      "C:\\Users\\carlo\\anaconda3\\lib\\site-packages\\IPython\\core\\interactiveshell.py:3165: DtypeWarning: Columns (104) have mixed types.Specify dtype option on import or set low_memory=False.\n",
      "  has_raised = await self.run_ast_nodes(code_ast.body, cell_name,\n"
     ]
    }
   ],
   "source": [
    "df15=pd.read_csv('data/players_15.csv')"
   ]
  },
  {
   "cell_type": "code",
   "execution_count": 6,
   "id": "fe187d75",
   "metadata": {},
   "outputs": [
    {
     "data": {
      "text/plain": [
       "['sofifa_id',\n",
       " 'player_url',\n",
       " 'short_name',\n",
       " 'long_name',\n",
       " 'player_positions',\n",
       " 'overall',\n",
       " 'potential',\n",
       " 'value_eur',\n",
       " 'wage_eur',\n",
       " 'age',\n",
       " 'dob',\n",
       " 'height_cm',\n",
       " 'weight_kg',\n",
       " 'club_team_id',\n",
       " 'club_name',\n",
       " 'league_name',\n",
       " 'league_level',\n",
       " 'club_position',\n",
       " 'club_jersey_number',\n",
       " 'club_loaned_from',\n",
       " 'club_joined',\n",
       " 'club_contract_valid_until',\n",
       " 'nationality_id',\n",
       " 'nationality_name',\n",
       " 'nation_team_id',\n",
       " 'nation_position',\n",
       " 'nation_jersey_number',\n",
       " 'preferred_foot',\n",
       " 'weak_foot',\n",
       " 'skill_moves',\n",
       " 'international_reputation',\n",
       " 'work_rate',\n",
       " 'body_type',\n",
       " 'real_face',\n",
       " 'release_clause_eur',\n",
       " 'player_tags',\n",
       " 'player_traits',\n",
       " 'pace',\n",
       " 'shooting',\n",
       " 'passing',\n",
       " 'dribbling',\n",
       " 'defending',\n",
       " 'physic',\n",
       " 'attacking_crossing',\n",
       " 'attacking_finishing',\n",
       " 'attacking_heading_accuracy',\n",
       " 'attacking_short_passing',\n",
       " 'attacking_volleys',\n",
       " 'skill_dribbling',\n",
       " 'skill_curve',\n",
       " 'skill_fk_accuracy',\n",
       " 'skill_long_passing',\n",
       " 'skill_ball_control',\n",
       " 'movement_acceleration',\n",
       " 'movement_sprint_speed',\n",
       " 'movement_agility',\n",
       " 'movement_reactions',\n",
       " 'movement_balance',\n",
       " 'power_shot_power',\n",
       " 'power_jumping',\n",
       " 'power_stamina',\n",
       " 'power_strength',\n",
       " 'power_long_shots',\n",
       " 'mentality_aggression',\n",
       " 'mentality_interceptions',\n",
       " 'mentality_positioning',\n",
       " 'mentality_vision',\n",
       " 'mentality_penalties',\n",
       " 'mentality_composure',\n",
       " 'defending_marking_awareness',\n",
       " 'defending_standing_tackle',\n",
       " 'defending_sliding_tackle',\n",
       " 'goalkeeping_diving',\n",
       " 'goalkeeping_handling',\n",
       " 'goalkeeping_kicking',\n",
       " 'goalkeeping_positioning',\n",
       " 'goalkeeping_reflexes',\n",
       " 'goalkeeping_speed',\n",
       " 'ls',\n",
       " 'st',\n",
       " 'rs',\n",
       " 'lw',\n",
       " 'lf',\n",
       " 'cf',\n",
       " 'rf',\n",
       " 'rw',\n",
       " 'lam',\n",
       " 'cam',\n",
       " 'ram',\n",
       " 'lm',\n",
       " 'lcm',\n",
       " 'cm',\n",
       " 'rcm',\n",
       " 'rm',\n",
       " 'lwb',\n",
       " 'ldm',\n",
       " 'cdm',\n",
       " 'rdm',\n",
       " 'rwb',\n",
       " 'lb',\n",
       " 'lcb',\n",
       " 'cb',\n",
       " 'rcb',\n",
       " 'rb',\n",
       " 'gk',\n",
       " 'player_face_url',\n",
       " 'club_logo_url',\n",
       " 'club_flag_url',\n",
       " 'nation_logo_url',\n",
       " 'nation_flag_url']"
      ]
     },
     "execution_count": 6,
     "metadata": {},
     "output_type": "execute_result"
    }
   ],
   "source": [
    "df15.columns.to_list()"
   ]
  },
  {
   "cell_type": "code",
   "execution_count": 7,
   "id": "fd59151c",
   "metadata": {},
   "outputs": [
    {
     "name": "stdout",
     "output_type": "stream",
     "text": [
      "<class 'pandas.core.frame.DataFrame'>\n",
      "RangeIndex: 16155 entries, 0 to 16154\n",
      "Columns: 110 entries, sofifa_id to nation_flag_url\n",
      "dtypes: float64(17), int64(43), object(50)\n",
      "memory usage: 13.6+ MB\n"
     ]
    }
   ],
   "source": [
    "df15.info()"
   ]
  },
  {
   "cell_type": "code",
   "execution_count": 8,
   "id": "35863317",
   "metadata": {},
   "outputs": [],
   "source": [
    "df16=pd.read_csv('data/players_16.csv')"
   ]
  },
  {
   "cell_type": "code",
   "execution_count": 9,
   "id": "2665fd08",
   "metadata": {},
   "outputs": [
    {
     "name": "stdout",
     "output_type": "stream",
     "text": [
      "<class 'pandas.core.frame.DataFrame'>\n",
      "RangeIndex: 15623 entries, 0 to 15622\n",
      "Columns: 110 entries, sofifa_id to nation_flag_url\n",
      "dtypes: float64(17), int64(43), object(50)\n",
      "memory usage: 13.1+ MB\n"
     ]
    }
   ],
   "source": [
    "df16.info()"
   ]
  },
  {
   "cell_type": "code",
   "execution_count": 10,
   "id": "21363302",
   "metadata": {},
   "outputs": [
    {
     "name": "stdout",
     "output_type": "stream",
     "text": [
      "<class 'pandas.core.frame.DataFrame'>\n",
      "RangeIndex: 17596 entries, 0 to 17595\n",
      "Columns: 110 entries, sofifa_id to nation_flag_url\n",
      "dtypes: float64(16), int64(44), object(50)\n",
      "memory usage: 14.8+ MB\n"
     ]
    }
   ],
   "source": [
    "df17=pd.read_csv('data/players_17.csv')\n",
    "df17.info()"
   ]
  },
  {
   "cell_type": "code",
   "execution_count": 11,
   "id": "da1d5bee",
   "metadata": {},
   "outputs": [
    {
     "name": "stdout",
     "output_type": "stream",
     "text": [
      "<class 'pandas.core.frame.DataFrame'>\n",
      "RangeIndex: 17954 entries, 0 to 17953\n",
      "Columns: 110 entries, sofifa_id to nation_flag_url\n",
      "dtypes: float64(16), int64(44), object(50)\n",
      "memory usage: 15.1+ MB\n"
     ]
    },
    {
     "name": "stderr",
     "output_type": "stream",
     "text": [
      "C:\\Users\\carlo\\anaconda3\\lib\\site-packages\\IPython\\core\\interactiveshell.py:3165: DtypeWarning: Columns (81,82,83,84,85) have mixed types.Specify dtype option on import or set low_memory=False.\n",
      "  has_raised = await self.run_ast_nodes(code_ast.body, cell_name,\n"
     ]
    }
   ],
   "source": [
    "df18=pd.read_csv('data/players_18.csv')\n",
    "df18.info()"
   ]
  },
  {
   "cell_type": "code",
   "execution_count": 12,
   "id": "73b23711",
   "metadata": {},
   "outputs": [
    {
     "name": "stdout",
     "output_type": "stream",
     "text": [
      "<class 'pandas.core.frame.DataFrame'>\n",
      "RangeIndex: 18085 entries, 0 to 18084\n",
      "Columns: 110 entries, sofifa_id to nation_flag_url\n",
      "dtypes: float64(16), int64(44), object(50)\n",
      "memory usage: 15.2+ MB\n"
     ]
    }
   ],
   "source": [
    "df19=pd.read_csv('data/players_19.csv')\n",
    "df19.info()"
   ]
  },
  {
   "cell_type": "code",
   "execution_count": 13,
   "id": "8f9bf4b7",
   "metadata": {},
   "outputs": [
    {
     "name": "stdout",
     "output_type": "stream",
     "text": [
      "<class 'pandas.core.frame.DataFrame'>\n",
      "RangeIndex: 18483 entries, 0 to 18482\n",
      "Columns: 110 entries, sofifa_id to nation_flag_url\n",
      "dtypes: float64(16), int64(44), object(50)\n",
      "memory usage: 15.5+ MB\n"
     ]
    }
   ],
   "source": [
    "df20=pd.read_csv('data/players_20.csv')\n",
    "df20.info()"
   ]
  },
  {
   "cell_type": "code",
   "execution_count": 14,
   "id": "cebacdb8",
   "metadata": {},
   "outputs": [
    {
     "name": "stdout",
     "output_type": "stream",
     "text": [
      "<class 'pandas.core.frame.DataFrame'>\n",
      "RangeIndex: 18944 entries, 0 to 18943\n",
      "Columns: 110 entries, sofifa_id to nation_flag_url\n",
      "dtypes: float64(16), int64(44), object(50)\n",
      "memory usage: 15.9+ MB\n"
     ]
    }
   ],
   "source": [
    "df21=pd.read_csv('data/players_21.csv')\n",
    "df21.info()"
   ]
  },
  {
   "cell_type": "code",
   "execution_count": 15,
   "id": "26100dfc",
   "metadata": {},
   "outputs": [
    {
     "name": "stdout",
     "output_type": "stream",
     "text": [
      "<class 'pandas.core.frame.DataFrame'>\n",
      "RangeIndex: 19239 entries, 0 to 19238\n",
      "Columns: 110 entries, sofifa_id to nation_flag_url\n",
      "dtypes: float64(16), int64(44), object(50)\n",
      "memory usage: 16.1+ MB\n"
     ]
    },
    {
     "name": "stderr",
     "output_type": "stream",
     "text": [
      "C:\\Users\\carlo\\anaconda3\\lib\\site-packages\\IPython\\core\\interactiveshell.py:3165: DtypeWarning: Columns (25,108) have mixed types.Specify dtype option on import or set low_memory=False.\n",
      "  has_raised = await self.run_ast_nodes(code_ast.body, cell_name,\n"
     ]
    }
   ],
   "source": [
    "df22=pd.read_csv('data/players_22.csv')\n",
    "df22.info()"
   ]
  },
  {
   "cell_type": "code",
   "execution_count": 16,
   "id": "ce4d8583",
   "metadata": {
    "code_folding": []
   },
   "outputs": [],
   "source": [
    "#bucle para añadir columna version en todos los datasets\n",
    "for i,df in zip(range(2015,2023),(df15,df16,df17,df18,df19,df20,df21,df22)):\n",
    "    df['año_version']=i"
   ]
  },
  {
   "cell_type": "code",
   "execution_count": 17,
   "id": "79fa7ad5",
   "metadata": {},
   "outputs": [],
   "source": [
    "#fusiono todos los datasets en uno\n",
    "frames = [df15,df16,df17,df18,df19,df20,df21,df22]\n",
    "df = pd.concat(frames)"
   ]
  },
  {
   "cell_type": "code",
   "execution_count": 18,
   "id": "3bf93278",
   "metadata": {},
   "outputs": [
    {
     "data": {
      "text/html": [
       "<div>\n",
       "<style scoped>\n",
       "    .dataframe tbody tr th:only-of-type {\n",
       "        vertical-align: middle;\n",
       "    }\n",
       "\n",
       "    .dataframe tbody tr th {\n",
       "        vertical-align: top;\n",
       "    }\n",
       "\n",
       "    .dataframe thead th {\n",
       "        text-align: right;\n",
       "    }\n",
       "</style>\n",
       "<table border=\"1\" class=\"dataframe\">\n",
       "  <thead>\n",
       "    <tr style=\"text-align: right;\">\n",
       "      <th></th>\n",
       "      <th>sofifa_id</th>\n",
       "      <th>player_url</th>\n",
       "      <th>short_name</th>\n",
       "      <th>long_name</th>\n",
       "      <th>player_positions</th>\n",
       "      <th>overall</th>\n",
       "      <th>potential</th>\n",
       "      <th>value_eur</th>\n",
       "      <th>wage_eur</th>\n",
       "      <th>age</th>\n",
       "      <th>...</th>\n",
       "      <th>cb</th>\n",
       "      <th>rcb</th>\n",
       "      <th>rb</th>\n",
       "      <th>gk</th>\n",
       "      <th>player_face_url</th>\n",
       "      <th>club_logo_url</th>\n",
       "      <th>club_flag_url</th>\n",
       "      <th>nation_logo_url</th>\n",
       "      <th>nation_flag_url</th>\n",
       "      <th>año_version</th>\n",
       "    </tr>\n",
       "  </thead>\n",
       "  <tbody>\n",
       "    <tr>\n",
       "      <th>0</th>\n",
       "      <td>158023</td>\n",
       "      <td>https://sofifa.com/player/158023/lionel-messi/...</td>\n",
       "      <td>L. Messi</td>\n",
       "      <td>Lionel Andrés Messi Cuccittini</td>\n",
       "      <td>CF</td>\n",
       "      <td>93</td>\n",
       "      <td>95</td>\n",
       "      <td>100500000.0</td>\n",
       "      <td>550000.0</td>\n",
       "      <td>27</td>\n",
       "      <td>...</td>\n",
       "      <td>45+3</td>\n",
       "      <td>45+3</td>\n",
       "      <td>54+3</td>\n",
       "      <td>15+3</td>\n",
       "      <td>https://cdn.sofifa.net/players/158/023/15_120.png</td>\n",
       "      <td>https://cdn.sofifa.net/teams/241/60.png</td>\n",
       "      <td>https://cdn.sofifa.net/flags/es.png</td>\n",
       "      <td>https://cdn.sofifa.net/teams/1369/60.png</td>\n",
       "      <td>https://cdn.sofifa.net/flags/ar.png</td>\n",
       "      <td>2015</td>\n",
       "    </tr>\n",
       "    <tr>\n",
       "      <th>0</th>\n",
       "      <td>158023</td>\n",
       "      <td>https://sofifa.com/player/158023/lionel-messi/...</td>\n",
       "      <td>L. Messi</td>\n",
       "      <td>Lionel Andrés Messi Cuccittini</td>\n",
       "      <td>RW, CF</td>\n",
       "      <td>94</td>\n",
       "      <td>95</td>\n",
       "      <td>111000000.0</td>\n",
       "      <td>550000.0</td>\n",
       "      <td>28</td>\n",
       "      <td>...</td>\n",
       "      <td>44+3</td>\n",
       "      <td>44+3</td>\n",
       "      <td>57+3</td>\n",
       "      <td>19+3</td>\n",
       "      <td>https://cdn.sofifa.net/players/158/023/16_120.png</td>\n",
       "      <td>https://cdn.sofifa.net/teams/241/60.png</td>\n",
       "      <td>https://cdn.sofifa.net/flags/es.png</td>\n",
       "      <td>https://cdn.sofifa.net/teams/1369/60.png</td>\n",
       "      <td>https://cdn.sofifa.net/flags/ar.png</td>\n",
       "      <td>2016</td>\n",
       "    </tr>\n",
       "    <tr>\n",
       "      <th>1</th>\n",
       "      <td>158023</td>\n",
       "      <td>https://sofifa.com/player/158023/lionel-messi/...</td>\n",
       "      <td>L. Messi</td>\n",
       "      <td>Lionel Andrés Messi Cuccittini</td>\n",
       "      <td>RW</td>\n",
       "      <td>93</td>\n",
       "      <td>93</td>\n",
       "      <td>89000000.0</td>\n",
       "      <td>575000.0</td>\n",
       "      <td>29</td>\n",
       "      <td>...</td>\n",
       "      <td>45+4</td>\n",
       "      <td>45+4</td>\n",
       "      <td>57+4</td>\n",
       "      <td>19+4</td>\n",
       "      <td>https://cdn.sofifa.net/players/158/023/17_120.png</td>\n",
       "      <td>https://cdn.sofifa.net/teams/241/60.png</td>\n",
       "      <td>https://cdn.sofifa.net/flags/es.png</td>\n",
       "      <td>https://cdn.sofifa.net/teams/1369/60.png</td>\n",
       "      <td>https://cdn.sofifa.net/flags/ar.png</td>\n",
       "      <td>2017</td>\n",
       "    </tr>\n",
       "    <tr>\n",
       "      <th>1</th>\n",
       "      <td>158023</td>\n",
       "      <td>https://sofifa.com/player/158023/lionel-messi/...</td>\n",
       "      <td>L. Messi</td>\n",
       "      <td>Lionel Andrés Messi Cuccittini</td>\n",
       "      <td>RW</td>\n",
       "      <td>93</td>\n",
       "      <td>93</td>\n",
       "      <td>105000000.0</td>\n",
       "      <td>575000.0</td>\n",
       "      <td>30</td>\n",
       "      <td>...</td>\n",
       "      <td>45+4</td>\n",
       "      <td>45+4</td>\n",
       "      <td>57+4</td>\n",
       "      <td>19+4</td>\n",
       "      <td>https://cdn.sofifa.net/players/158/023/18_120.png</td>\n",
       "      <td>https://cdn.sofifa.net/teams/241/60.png</td>\n",
       "      <td>https://cdn.sofifa.net/flags/es.png</td>\n",
       "      <td>https://cdn.sofifa.net/teams/1369/60.png</td>\n",
       "      <td>https://cdn.sofifa.net/flags/ar.png</td>\n",
       "      <td>2018</td>\n",
       "    </tr>\n",
       "    <tr>\n",
       "      <th>1</th>\n",
       "      <td>158023</td>\n",
       "      <td>https://sofifa.com/player/158023/lionel-messi/...</td>\n",
       "      <td>L. Messi</td>\n",
       "      <td>Lionel Andrés Messi Cuccittini</td>\n",
       "      <td>CF, RW, ST</td>\n",
       "      <td>94</td>\n",
       "      <td>94</td>\n",
       "      <td>110500000.0</td>\n",
       "      <td>575000.0</td>\n",
       "      <td>31</td>\n",
       "      <td>...</td>\n",
       "      <td>48+7</td>\n",
       "      <td>48+7</td>\n",
       "      <td>59+7</td>\n",
       "      <td>19+7</td>\n",
       "      <td>https://cdn.sofifa.net/players/158/023/19_120.png</td>\n",
       "      <td>https://cdn.sofifa.net/teams/241/60.png</td>\n",
       "      <td>https://cdn.sofifa.net/flags/es.png</td>\n",
       "      <td>https://cdn.sofifa.net/teams/1369/60.png</td>\n",
       "      <td>https://cdn.sofifa.net/flags/ar.png</td>\n",
       "      <td>2019</td>\n",
       "    </tr>\n",
       "    <tr>\n",
       "      <th>0</th>\n",
       "      <td>158023</td>\n",
       "      <td>https://sofifa.com/player/158023/lionel-messi/...</td>\n",
       "      <td>L. Messi</td>\n",
       "      <td>Lionel Andrés Messi Cuccittini</td>\n",
       "      <td>RW, CF, ST</td>\n",
       "      <td>94</td>\n",
       "      <td>94</td>\n",
       "      <td>95500000.0</td>\n",
       "      <td>560000.0</td>\n",
       "      <td>32</td>\n",
       "      <td>...</td>\n",
       "      <td>53+6</td>\n",
       "      <td>53+6</td>\n",
       "      <td>63+6</td>\n",
       "      <td>19+6</td>\n",
       "      <td>https://cdn.sofifa.net/players/158/023/20_120.png</td>\n",
       "      <td>https://cdn.sofifa.net/teams/241/60.png</td>\n",
       "      <td>https://cdn.sofifa.net/flags/es.png</td>\n",
       "      <td>NaN</td>\n",
       "      <td>https://cdn.sofifa.net/flags/ar.png</td>\n",
       "      <td>2020</td>\n",
       "    </tr>\n",
       "    <tr>\n",
       "      <th>0</th>\n",
       "      <td>158023</td>\n",
       "      <td>https://sofifa.com/player/158023/lionel-messi/...</td>\n",
       "      <td>L. Messi</td>\n",
       "      <td>Lionel Andrés Messi Cuccittini</td>\n",
       "      <td>RW, ST, CF</td>\n",
       "      <td>93</td>\n",
       "      <td>93</td>\n",
       "      <td>103500000.0</td>\n",
       "      <td>560000.0</td>\n",
       "      <td>33</td>\n",
       "      <td>...</td>\n",
       "      <td>52+3</td>\n",
       "      <td>52+3</td>\n",
       "      <td>62+3</td>\n",
       "      <td>19+3</td>\n",
       "      <td>https://cdn.sofifa.net/players/158/023/21_120.png</td>\n",
       "      <td>https://cdn.sofifa.net/teams/241/60.png</td>\n",
       "      <td>https://cdn.sofifa.net/flags/es.png</td>\n",
       "      <td>https://cdn.sofifa.net/teams/1369/60.png</td>\n",
       "      <td>https://cdn.sofifa.net/flags/ar.png</td>\n",
       "      <td>2021</td>\n",
       "    </tr>\n",
       "    <tr>\n",
       "      <th>0</th>\n",
       "      <td>158023</td>\n",
       "      <td>https://sofifa.com/player/158023/lionel-messi/...</td>\n",
       "      <td>L. Messi</td>\n",
       "      <td>Lionel Andrés Messi Cuccittini</td>\n",
       "      <td>RW, ST, CF</td>\n",
       "      <td>93</td>\n",
       "      <td>93</td>\n",
       "      <td>78000000.0</td>\n",
       "      <td>320000.0</td>\n",
       "      <td>34</td>\n",
       "      <td>...</td>\n",
       "      <td>50+3</td>\n",
       "      <td>50+3</td>\n",
       "      <td>61+3</td>\n",
       "      <td>19+3</td>\n",
       "      <td>https://cdn.sofifa.net/players/158/023/22_120.png</td>\n",
       "      <td>https://cdn.sofifa.net/teams/73/60.png</td>\n",
       "      <td>https://cdn.sofifa.net/flags/fr.png</td>\n",
       "      <td>https://cdn.sofifa.net/teams/1369/60.png</td>\n",
       "      <td>https://cdn.sofifa.net/flags/ar.png</td>\n",
       "      <td>2022</td>\n",
       "    </tr>\n",
       "  </tbody>\n",
       "</table>\n",
       "<p>8 rows × 111 columns</p>\n",
       "</div>"
      ],
      "text/plain": [
       "   sofifa_id                                         player_url short_name  \\\n",
       "0     158023  https://sofifa.com/player/158023/lionel-messi/...   L. Messi   \n",
       "0     158023  https://sofifa.com/player/158023/lionel-messi/...   L. Messi   \n",
       "1     158023  https://sofifa.com/player/158023/lionel-messi/...   L. Messi   \n",
       "1     158023  https://sofifa.com/player/158023/lionel-messi/...   L. Messi   \n",
       "1     158023  https://sofifa.com/player/158023/lionel-messi/...   L. Messi   \n",
       "0     158023  https://sofifa.com/player/158023/lionel-messi/...   L. Messi   \n",
       "0     158023  https://sofifa.com/player/158023/lionel-messi/...   L. Messi   \n",
       "0     158023  https://sofifa.com/player/158023/lionel-messi/...   L. Messi   \n",
       "\n",
       "                        long_name player_positions  overall  potential  \\\n",
       "0  Lionel Andrés Messi Cuccittini               CF       93         95   \n",
       "0  Lionel Andrés Messi Cuccittini           RW, CF       94         95   \n",
       "1  Lionel Andrés Messi Cuccittini               RW       93         93   \n",
       "1  Lionel Andrés Messi Cuccittini               RW       93         93   \n",
       "1  Lionel Andrés Messi Cuccittini       CF, RW, ST       94         94   \n",
       "0  Lionel Andrés Messi Cuccittini       RW, CF, ST       94         94   \n",
       "0  Lionel Andrés Messi Cuccittini       RW, ST, CF       93         93   \n",
       "0  Lionel Andrés Messi Cuccittini       RW, ST, CF       93         93   \n",
       "\n",
       "     value_eur  wage_eur  age  ...    cb   rcb    rb    gk  \\\n",
       "0  100500000.0  550000.0   27  ...  45+3  45+3  54+3  15+3   \n",
       "0  111000000.0  550000.0   28  ...  44+3  44+3  57+3  19+3   \n",
       "1   89000000.0  575000.0   29  ...  45+4  45+4  57+4  19+4   \n",
       "1  105000000.0  575000.0   30  ...  45+4  45+4  57+4  19+4   \n",
       "1  110500000.0  575000.0   31  ...  48+7  48+7  59+7  19+7   \n",
       "0   95500000.0  560000.0   32  ...  53+6  53+6  63+6  19+6   \n",
       "0  103500000.0  560000.0   33  ...  52+3  52+3  62+3  19+3   \n",
       "0   78000000.0  320000.0   34  ...  50+3  50+3  61+3  19+3   \n",
       "\n",
       "                                     player_face_url  \\\n",
       "0  https://cdn.sofifa.net/players/158/023/15_120.png   \n",
       "0  https://cdn.sofifa.net/players/158/023/16_120.png   \n",
       "1  https://cdn.sofifa.net/players/158/023/17_120.png   \n",
       "1  https://cdn.sofifa.net/players/158/023/18_120.png   \n",
       "1  https://cdn.sofifa.net/players/158/023/19_120.png   \n",
       "0  https://cdn.sofifa.net/players/158/023/20_120.png   \n",
       "0  https://cdn.sofifa.net/players/158/023/21_120.png   \n",
       "0  https://cdn.sofifa.net/players/158/023/22_120.png   \n",
       "\n",
       "                             club_logo_url  \\\n",
       "0  https://cdn.sofifa.net/teams/241/60.png   \n",
       "0  https://cdn.sofifa.net/teams/241/60.png   \n",
       "1  https://cdn.sofifa.net/teams/241/60.png   \n",
       "1  https://cdn.sofifa.net/teams/241/60.png   \n",
       "1  https://cdn.sofifa.net/teams/241/60.png   \n",
       "0  https://cdn.sofifa.net/teams/241/60.png   \n",
       "0  https://cdn.sofifa.net/teams/241/60.png   \n",
       "0   https://cdn.sofifa.net/teams/73/60.png   \n",
       "\n",
       "                         club_flag_url  \\\n",
       "0  https://cdn.sofifa.net/flags/es.png   \n",
       "0  https://cdn.sofifa.net/flags/es.png   \n",
       "1  https://cdn.sofifa.net/flags/es.png   \n",
       "1  https://cdn.sofifa.net/flags/es.png   \n",
       "1  https://cdn.sofifa.net/flags/es.png   \n",
       "0  https://cdn.sofifa.net/flags/es.png   \n",
       "0  https://cdn.sofifa.net/flags/es.png   \n",
       "0  https://cdn.sofifa.net/flags/fr.png   \n",
       "\n",
       "                            nation_logo_url  \\\n",
       "0  https://cdn.sofifa.net/teams/1369/60.png   \n",
       "0  https://cdn.sofifa.net/teams/1369/60.png   \n",
       "1  https://cdn.sofifa.net/teams/1369/60.png   \n",
       "1  https://cdn.sofifa.net/teams/1369/60.png   \n",
       "1  https://cdn.sofifa.net/teams/1369/60.png   \n",
       "0                                       NaN   \n",
       "0  https://cdn.sofifa.net/teams/1369/60.png   \n",
       "0  https://cdn.sofifa.net/teams/1369/60.png   \n",
       "\n",
       "                       nation_flag_url año_version  \n",
       "0  https://cdn.sofifa.net/flags/ar.png        2015  \n",
       "0  https://cdn.sofifa.net/flags/ar.png        2016  \n",
       "1  https://cdn.sofifa.net/flags/ar.png        2017  \n",
       "1  https://cdn.sofifa.net/flags/ar.png        2018  \n",
       "1  https://cdn.sofifa.net/flags/ar.png        2019  \n",
       "0  https://cdn.sofifa.net/flags/ar.png        2020  \n",
       "0  https://cdn.sofifa.net/flags/ar.png        2021  \n",
       "0  https://cdn.sofifa.net/flags/ar.png        2022  \n",
       "\n",
       "[8 rows x 111 columns]"
      ]
     },
     "execution_count": 18,
     "metadata": {},
     "output_type": "execute_result"
    }
   ],
   "source": [
    "#test con messi\n",
    "df[df['sofifa_id']==158023]"
   ]
  },
  {
   "cell_type": "code",
   "execution_count": 19,
   "id": "a83956cd",
   "metadata": {},
   "outputs": [],
   "source": [
    "#el inicial\n",
    "value=df[(df['sofifa_id']==158023)&(df['año_version']==2016)]['overall'][0]"
   ]
  },
  {
   "cell_type": "code",
   "execution_count": 20,
   "id": "63003d41",
   "metadata": {},
   "outputs": [],
   "source": [
    "#el anterior al inicial\n",
    "value_ant=df[(df['sofifa_id']==158023)&(df['año_version']==2015)]['overall'][0]"
   ]
  },
  {
   "cell_type": "code",
   "execution_count": 21,
   "id": "9ed4291f",
   "metadata": {},
   "outputs": [],
   "source": [
    "progresion=(value-value_ant)/value_ant"
   ]
  },
  {
   "cell_type": "code",
   "execution_count": 22,
   "id": "f59a066e",
   "metadata": {},
   "outputs": [
    {
     "data": {
      "text/plain": [
       "0.010752688172043012"
      ]
     },
     "execution_count": 22,
     "metadata": {},
     "output_type": "execute_result"
    }
   ],
   "source": [
    "progresion"
   ]
  },
  {
   "cell_type": "code",
   "execution_count": 23,
   "id": "9c6f2138",
   "metadata": {},
   "outputs": [],
   "source": [
    "#falta hacer función y aplicarla a cada fila: si sale error poner nulo y eliminarla del dataset"
   ]
  },
  {
   "cell_type": "code",
   "execution_count": 24,
   "id": "15fdadb0",
   "metadata": {},
   "outputs": [],
   "source": [
    "#primera aparición\n",
    "firstfifa=df[df['sofifa_id']==158023].nsmallest(1, 'año_version')['año_version'][0]"
   ]
  },
  {
   "cell_type": "code",
   "execution_count": 25,
   "id": "e8ea45df",
   "metadata": {},
   "outputs": [],
   "source": [
    "#última aparición\n",
    "lastfifa=df[df['sofifa_id']==158023].nlargest(1, 'año_version')['año_version'][0]"
   ]
  },
  {
   "cell_type": "code",
   "execution_count": 26,
   "id": "46f2e2a8",
   "metadata": {},
   "outputs": [
    {
     "data": {
      "text/html": [
       "<div>\n",
       "<style scoped>\n",
       "    .dataframe tbody tr th:only-of-type {\n",
       "        vertical-align: middle;\n",
       "    }\n",
       "\n",
       "    .dataframe tbody tr th {\n",
       "        vertical-align: top;\n",
       "    }\n",
       "\n",
       "    .dataframe thead th {\n",
       "        text-align: right;\n",
       "    }\n",
       "</style>\n",
       "<table border=\"1\" class=\"dataframe\">\n",
       "  <thead>\n",
       "    <tr style=\"text-align: right;\">\n",
       "      <th></th>\n",
       "      <th>sofifa_id</th>\n",
       "      <th>player_url</th>\n",
       "      <th>short_name</th>\n",
       "      <th>long_name</th>\n",
       "      <th>player_positions</th>\n",
       "      <th>overall</th>\n",
       "      <th>potential</th>\n",
       "      <th>value_eur</th>\n",
       "      <th>wage_eur</th>\n",
       "      <th>age</th>\n",
       "      <th>...</th>\n",
       "      <th>cb</th>\n",
       "      <th>rcb</th>\n",
       "      <th>rb</th>\n",
       "      <th>gk</th>\n",
       "      <th>player_face_url</th>\n",
       "      <th>club_logo_url</th>\n",
       "      <th>club_flag_url</th>\n",
       "      <th>nation_logo_url</th>\n",
       "      <th>nation_flag_url</th>\n",
       "      <th>año_version</th>\n",
       "    </tr>\n",
       "  </thead>\n",
       "  <tbody>\n",
       "    <tr>\n",
       "      <th>1</th>\n",
       "      <td>158023</td>\n",
       "      <td>https://sofifa.com/player/158023/lionel-messi/...</td>\n",
       "      <td>L. Messi</td>\n",
       "      <td>Lionel Andrés Messi Cuccittini</td>\n",
       "      <td>RW</td>\n",
       "      <td>93</td>\n",
       "      <td>93</td>\n",
       "      <td>89000000.0</td>\n",
       "      <td>575000.0</td>\n",
       "      <td>29</td>\n",
       "      <td>...</td>\n",
       "      <td>45+4</td>\n",
       "      <td>45+4</td>\n",
       "      <td>57+4</td>\n",
       "      <td>19+4</td>\n",
       "      <td>https://cdn.sofifa.net/players/158/023/17_120.png</td>\n",
       "      <td>https://cdn.sofifa.net/teams/241/60.png</td>\n",
       "      <td>https://cdn.sofifa.net/flags/es.png</td>\n",
       "      <td>https://cdn.sofifa.net/teams/1369/60.png</td>\n",
       "      <td>https://cdn.sofifa.net/flags/ar.png</td>\n",
       "      <td>2017</td>\n",
       "    </tr>\n",
       "  </tbody>\n",
       "</table>\n",
       "<p>1 rows × 111 columns</p>\n",
       "</div>"
      ],
      "text/plain": [
       "   sofifa_id                                         player_url short_name  \\\n",
       "1     158023  https://sofifa.com/player/158023/lionel-messi/...   L. Messi   \n",
       "\n",
       "                        long_name player_positions  overall  potential  \\\n",
       "1  Lionel Andrés Messi Cuccittini               RW       93         93   \n",
       "\n",
       "    value_eur  wage_eur  age  ...    cb   rcb    rb    gk  \\\n",
       "1  89000000.0  575000.0   29  ...  45+4  45+4  57+4  19+4   \n",
       "\n",
       "                                     player_face_url  \\\n",
       "1  https://cdn.sofifa.net/players/158/023/17_120.png   \n",
       "\n",
       "                             club_logo_url  \\\n",
       "1  https://cdn.sofifa.net/teams/241/60.png   \n",
       "\n",
       "                         club_flag_url  \\\n",
       "1  https://cdn.sofifa.net/flags/es.png   \n",
       "\n",
       "                            nation_logo_url  \\\n",
       "1  https://cdn.sofifa.net/teams/1369/60.png   \n",
       "\n",
       "                       nation_flag_url año_version  \n",
       "1  https://cdn.sofifa.net/flags/ar.png        2017  \n",
       "\n",
       "[1 rows x 111 columns]"
      ]
     },
     "execution_count": 26,
     "metadata": {},
     "output_type": "execute_result"
    }
   ],
   "source": [
    "df[(df['sofifa_id']==158023)&(df['año_version']==2017)]"
   ]
  },
  {
   "cell_type": "code",
   "execution_count": 27,
   "id": "25c824aa",
   "metadata": {},
   "outputs": [
    {
     "name": "stdout",
     "output_type": "stream",
     "text": [
      "93\n"
     ]
    }
   ],
   "source": [
    "print(df[(df['sofifa_id']==158023)&(df['año_version']==2017)]['overall'].to_list()[0])"
   ]
  },
  {
   "cell_type": "code",
   "execution_count": 28,
   "id": "d0cb089d",
   "metadata": {},
   "outputs": [
    {
     "name": "stdout",
     "output_type": "stream",
     "text": [
      "2015\n",
      "2016\n",
      "2017\n",
      "2018\n",
      "2019\n",
      "2020\n",
      "2021\n"
     ]
    }
   ],
   "source": [
    "for i in range(firstfifa,lastfifa):\n",
    "    print(i)"
   ]
  },
  {
   "cell_type": "code",
   "execution_count": 29,
   "id": "80f6576a",
   "metadata": {},
   "outputs": [
    {
     "name": "stdout",
     "output_type": "stream",
     "text": [
      "2015\n",
      "0.010752688172043012\n",
      "2016\n",
      "-0.010638297872340425\n",
      "2017\n",
      "0.0\n",
      "2018\n",
      "0.010752688172043012\n",
      "2019\n",
      "0.0\n",
      "2020\n",
      "-0.010638297872340425\n",
      "2021\n",
      "0.0\n"
     ]
    }
   ],
   "source": [
    "for i in range(firstfifa,lastfifa):\n",
    "    value_fut=df[(df['sofifa_id']==158023)&(df['año_version']==(i+1))]['overall'].to_list()[0]\n",
    "    value_act=df[(df['sofifa_id']==158023)&(df['año_version']==i)]['overall'].to_list()[0]\n",
    "    print(i)\n",
    "    print((value_fut-value_act)/value_act)"
   ]
  },
  {
   "cell_type": "code",
   "execution_count": 98,
   "id": "13717077",
   "metadata": {
    "code_folding": []
   },
   "outputs": [],
   "source": [
    "def progresion_anual(row):\n",
    "    #Calcula primero la primera y ultima version en que apareció el jugador en el juego. \n",
    "    #Despúes calcula la progresión porcentual que tendrá el overall en la versión siguiente.\n",
    "    #El dateframe debe llamarse 'df'\n",
    "    #Ojo! calculando por el dataframe segmento de la primera división tarda en ejecucarse unos 28.1s. El df total son 13 min\n",
    "    #Sample Input: df.iloc[8].squeeze()\n",
    "    #Sample Output: -0.022727272727272728\n",
    "    \n",
    "    \n",
    "    firstfifa=df[df['sofifa_id']==row['sofifa_id']].nsmallest(1, 'año_version')['año_version'].to_list()[0]\n",
    "    lastfifa=df[df['sofifa_id']==row['sofifa_id']].nlargest(1, 'año_version')['año_version'].to_list()[0]\n",
    "    try:\n",
    "        if row['año_version'] in range(firstfifa,lastfifa):\n",
    "            value_fut=df[(df['sofifa_id']==row['sofifa_id'])&(df['año_version']==(row['año_version']+1))]['overall'].to_list()[0]\n",
    "            value_act=df[(df['sofifa_id']==row['sofifa_id'])&(df['año_version']==row['año_version'])]['overall'].to_list()[0]\n",
    "            return (value_fut-value_act)/value_act\n",
    "        else:\n",
    "            return None\n",
    "    except:\n",
    "        pass\n",
    "            \n",
    "    "
   ]
  },
  {
   "cell_type": "code",
   "execution_count": 99,
   "id": "52af486c",
   "metadata": {},
   "outputs": [
    {
     "name": "stdout",
     "output_type": "stream",
     "text": [
      "Wall time: 12min 51s\n"
     ]
    }
   ],
   "source": [
    "%%time\n",
    "df['progresion_anual']=df.apply(progresion_anual, axis=1)"
   ]
  },
  {
   "cell_type": "code",
   "execution_count": 100,
   "id": "8855ee55",
   "metadata": {},
   "outputs": [
    {
     "data": {
      "text/plain": [
       "long_name                      año_version\n",
       "Mahmut Ertuğrul Taşkıran       2015           0.674419\n",
       "Jorge Andrés Carrascal Guardo  2016           0.500000\n",
       "Bartłomiej Drągowski           2015           0.420000\n",
       "Tanguy Ndombèlé Alvaro         2017           0.411765\n",
       "Giovani Lo Celso               2016           0.396226\n",
       "Kevin Linford Stewart          2016           0.384615\n",
       "Mikel Oyarzabal Ugarte         2016           0.375000\n",
       "Íñigo Lekue Martínez           2015           0.372549\n",
       "Leonardo Sequeira              2018           0.365385\n",
       "Majed Al Khaibary              2015           0.361702\n",
       "Name: progresion_anual, dtype: float64"
      ]
     },
     "execution_count": 100,
     "metadata": {},
     "output_type": "execute_result"
    }
   ],
   "source": [
    "df.groupby(['long_name','año_version'])['progresion_anual'].max().nlargest(10)"
   ]
  },
  {
   "cell_type": "code",
   "execution_count": 104,
   "id": "41f49da3",
   "metadata": {},
   "outputs": [],
   "source": [
    "import seaborn as sns"
   ]
  },
  {
   "cell_type": "code",
   "execution_count": 105,
   "id": "47b00b7d",
   "metadata": {},
   "outputs": [
    {
     "data": {
      "text/plain": [
       "<AxesSubplot:xlabel='age', ylabel='progresion_anual'>"
      ]
     },
     "execution_count": 105,
     "metadata": {},
     "output_type": "execute_result"
    },
    {
     "data": {
      "image/png": "[encoded data removed]",
      "text/plain": [
       "<Figure size 432x288 with 1 Axes>"
      ]
     },
     "metadata": {
      "needs_background": "light"
     },
     "output_type": "display_data"
    }
   ],
   "source": [
    "sns.scatterplot(data=df, x=\"age\", y=\"progresion_anual\")"
   ]
  },
  {
   "cell_type": "code",
   "execution_count": 107,
   "id": "5c9061fa",
   "metadata": {},
   "outputs": [],
   "source": [
    "df.to_csv('data\\players_total.csv')"
   ]
  },
  {
   "cell_type": "code",
   "execution_count": 108,
   "id": "2a1174e3",
   "metadata": {},
   "outputs": [
    {
     "name": "stderr",
     "output_type": "stream",
     "text": [
      "C:\\Users\\carlo\\anaconda3\\lib\\site-packages\\IPython\\core\\interactiveshell.py:3165: DtypeWarning: Columns (26,109) have mixed types.Specify dtype option on import or set low_memory=False.\n",
      "  has_raised = await self.run_ast_nodes(code_ast.body, cell_name,\n"
     ]
    }
   ],
   "source": [
    "df_new=pd.read_csv('data\\players_total.csv')"
   ]
  },
  {
   "cell_type": "code",
   "execution_count": null,
   "id": "123958aa",
   "metadata": {},
   "outputs": [],
   "source": []
  }
 ],
 "metadata": {
  "kernelspec": {
   "display_name": "Python 3",
   "language": "python",
   "name": "python3"
  },
  "language_info": {
   "codemirror_mode": {
    "name": "ipython",
    "version": 3
   },
   "file_extension": ".py",
   "mimetype": "text/x-python",
   "name": "python",
   "nbconvert_exporter": "python",
   "pygments_lexer": "ipython3",
   "version": "3.8.8"
  },
  "toc": {
   "base_numbering": 1,
   "nav_menu": {},
   "number_sections": true,
   "sideBar": true,
   "skip_h1_title": false,
   "title_cell": "Table of Contents",
   "title_sidebar": "Contents",
   "toc_cell": false,
   "toc_position": {},
   "toc_section_display": true,
   "toc_window_display": false
  },
  "varInspector": {
   "cols": {
    "lenName": 16,
    "lenType": 16,
    "lenVar": 40
   },
   "kernels_config": {
    "python": {
     "delete_cmd_postfix": "",
     "delete_cmd_prefix": "del ",
     "library": "var_list.py",
     "varRefreshCmd": "print(var_dic_list())"
    },
    "r": {
     "delete_cmd_postfix": ") ",
     "delete_cmd_prefix": "rm(",
     "library": "var_list.r",
     "varRefreshCmd": "cat(var_dic_list()) "
    }
   },
   "types_to_exclude": [
    "module",
    "function",
    "builtin_function_or_method",
    "instance",
    "_Feature"
   ],
   "window_display": false
  }
 },
 "nbformat": 4,
 "nbformat_minor": 5
}
